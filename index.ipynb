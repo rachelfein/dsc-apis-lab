{
 "cells": [
  {
   "cell_type": "markdown",
   "metadata": {},
   "source": [
    "# APIs - Cumulative Lab\n",
    "\n",
    "\n",
    "## Introduction \n",
    "\n",
    "We've seen how the Yelp API works and how to create basic visualizations using Folium. It's time to put those skills to work in order to create a working map! Taking things a step further, you'll also independently explore how to perform pagination in order to retrieve a full results set from the Yelp API.\n",
    "\n",
    "## Objectives\n",
    "\n",
    "You will be able to: \n",
    "\n",
    "* Practice using functions to organize your code\n",
    "* Use pagination to retrieve all results from an API query\n",
    "* Practice parsing data returned from an API query\n",
    "* Practice interpreting visualizations of a dataset\n",
    "* Create maps using Folium"
   ]
  },
  {
   "cell_type": "markdown",
   "metadata": {},
   "source": [
    "## Your Task: Query Yelp for All Businesses in a Category and Analyze the Results\n",
    "\n",
    "![restaurant counter with pizza](images/restaurant_counter.jpg)\n",
    "\n",
    "Photo by <a href=\"https://unsplash.com/@jordanmadrid?utm_source=unsplash&utm_medium=referral&utm_content=creditCopyText\">Jordan Madrid</a> on <a href=\"/s/photos/pizza-restaurant?utm_source=unsplash&utm_medium=referral&utm_content=creditCopyText\">Unsplash</a>"
   ]
  },
  {
   "cell_type": "markdown",
   "metadata": {},
   "source": [
    "### Overview\n",
    "\n",
    "You've now worked with some API calls, but we have yet to see how to retrieve a more complete dataset in a programmatic manner. In this lab, you will write a query of businesses on Yelp, then use *pagination* to retrieve all possible results for that query. Then you will create a summary of your findings, including a Folium map of the geographic locations of those businesses.\n",
    "\n",
    "### Technical Details\n",
    "\n",
    "Returning to the Yelp API, the [documentation](https://www.yelp.com/developers/documentation/v3/business_search) also provides us details regarding the **API limits**. These often include details about the number of requests a user is allowed to make within a specified time limit and the maximum number of results to be returned. In this case, we are told that any request has a **maximum of 50 results per request** and defaults to 20. Furthermore, any search will be limited to a **total of 1000 results**. To retrieve all 1000 of these results, we would have to page through the results piece by piece, retrieving 50 at a time. Processes such as these are often referred to as pagination.\n",
    "\n",
    "Also, be mindful of the **API** ***rate*** **limits**. You can only make **5000 requests per day** and are also can make requests too fast. Start prototyping small before running a loop that could be faulty. You can also use `time.sleep(n)` to add delays. For more details see https://www.yelp.com/developers/documentation/v3/rate_limiting.\n",
    "\n",
    "In this lab, you will define a search and then paginate over the results to retrieve all of the results. You'll then parse these responses as a list of dictionaries (for further exploration) and create a map using Folium to visualize the results geographically.\n",
    "\n",
    "### Requirements\n",
    "\n",
    "#### 1. Make the Initial Request\n",
    "\n",
    "Start by filling in your API key to make the initial request to the business search API. Investigate the structure of the response you get back and start figuring out how you will extract the relevant information.\n",
    "\n",
    "#### 2. Add Pagination\n",
    "\n",
    "Using loops and functions, collect the maximum number of results for your query from the API.\n",
    "\n",
    "#### 3. Perform Exploratory Analysis\n",
    "\n",
    "Interpret visualizations related to the price range, average rating, and number of reviews for all query results.\n",
    "\n",
    "#### 4. Create a Folium Map\n",
    "\n",
    "Using latitude and longitude data, plot the query results on an interactive map."
   ]
  },
  {
   "cell_type": "markdown",
   "metadata": {},
   "source": [
    "## 1. Make the Initial Request\n",
    "\n",
    "### Querying\n",
    "\n",
    "Start by making an initial request to the Yelp API. Your search must include at least 2 parameters: **term** and **location**. For example, you might search for pizza restaurants in NYC. The term and location is up to you but make the request below.\n",
    "\n",
    "Use the `requests` library ([documentation here](https://requests.readthedocs.io/en/master/user/quickstart/#make-a-request)).\n",
    "\n",
    "You'll also need an API key from Yelp. If you haven't done this already, go to the Yelp [Manage App page](https://www.yelp.com/developers/v3/manage_app) and create a new app (after making an account if you haven't already)."
   ]
  },
  {
   "cell_type": "code",
   "execution_count": 5,
   "metadata": {},
   "outputs": [],
   "source": [
    "# Replace None with appropriate code\n",
    "\n",
    "# Import the requests library\n",
    "import requests\n",
    "import json\n",
    "def get_keys(path):\n",
    "    with open(path) as f:\n",
    "        return json.load(f)\n",
    "\n",
    "# Get this from the \"Manage App\" page. Make sure you set them\n",
    "# back to None before pushing this to GitHub, since otherwise\n",
    "# your credentials will be compromised\n",
    "\n",
    "keys = get_keys(None)\n",
    "api_key = keys[None]\n"
   ]
  },
  {
   "cell_type": "code",
   "execution_count": 6,
   "metadata": {},
   "outputs": [
    {
     "data": {
      "text/plain": [
       "<Response [200]>"
      ]
     },
     "execution_count": 6,
     "metadata": {},
     "output_type": "execute_result"
    }
   ],
   "source": [
    "# These can be whatever you want! But the solution uses \"pizza\"\n",
    "# and \"New York NY\" if you want to compare your work directly\n",
    "term = \"pizza\"\n",
    "location = \"New York NY\"\n",
    "\n",
    "# Set up params for request\n",
    "url = \"https://api.yelp.com/v3/businesses/search\"\n",
    "headers = {\n",
    "    \"Authorization\": \"Bearer {}\".format(api_key)\n",
    "}\n",
    "url_params = {\n",
    "    \"term\": term.replace(\" \", \"+\"),\n",
    "    \"location\": location.replace(\" \", \"+\")\n",
    "}\n",
    "\n",
    "# Make the request using requests.get, passing in\n",
    "# url, headers=headers, and params=url_params\n",
    "response = requests.get(url, headers=headers, params=url_params)\n",
    "\n",
    "# Confirm we got a 200 response\n",
    "response"
   ]
  },
  {
   "cell_type": "code",
   "execution_count": 7,
   "metadata": {},
   "outputs": [
    {
     "data": {
      "text/plain": [
       "dict_keys(['businesses', 'total', 'region'])"
      ]
     },
     "execution_count": 7,
     "metadata": {},
     "output_type": "execute_result"
    }
   ],
   "source": [
    "# Run this cell without changes\n",
    "\n",
    "# Get the response body in JSON format\n",
    "response_json = response.json()\n",
    "# View the keys\n",
    "response_json.keys()"
   ]
  },
  {
   "cell_type": "markdown",
   "metadata": {},
   "source": [
    "### Extracting Data\n",
    "\n",
    "Now, retrieve the value associated with the `'businesses'` key, and inspect its contents."
   ]
  },
  {
   "cell_type": "code",
   "execution_count": 8,
   "metadata": {},
   "outputs": [
    {
     "data": {
      "text/plain": [
       "[{'id': 'zj8Lq1T8KIC5zwFief15jg',\n",
       "  'alias': 'prince-street-pizza-new-york-2',\n",
       "  'name': 'Prince Street Pizza',\n",
       "  'image_url': 'https://s3-media3.fl.yelpcdn.com/bphoto/ZAukOyv530w4KjOHC5YY1w/o.jpg',\n",
       "  'is_closed': False,\n",
       "  'url': 'https://www.yelp.com/biz/prince-street-pizza-new-york-2?adjust_creative=HLZOeisiwIddfzajhrppHg&utm_campaign=yelp_api_v3&utm_medium=api_v3_business_search&utm_source=HLZOeisiwIddfzajhrppHg',\n",
       "  'review_count': 4102,\n",
       "  'categories': [{'alias': 'pizza', 'title': 'Pizza'},\n",
       "   {'alias': 'italian', 'title': 'Italian'}],\n",
       "  'rating': 4.5,\n",
       "  'coordinates': {'latitude': 40.72308755605564,\n",
       "   'longitude': -73.99453001177575},\n",
       "  'transactions': ['pickup', 'delivery'],\n",
       "  'price': '$',\n",
       "  'location': {'address1': '27 Prince St',\n",
       "   'address2': None,\n",
       "   'address3': '',\n",
       "   'city': 'New York',\n",
       "   'zip_code': '10012',\n",
       "   'country': 'US',\n",
       "   'state': 'NY',\n",
       "   'display_address': ['27 Prince St', 'New York, NY 10012']},\n",
       "  'phone': '+12129664100',\n",
       "  'display_phone': '(212) 966-4100',\n",
       "  'distance': 1961.8771417367063},\n",
       " {'id': 'ysqgdbSrezXgVwER2kQWKA',\n",
       "  'alias': 'julianas-brooklyn-3',\n",
       "  'name': \"Juliana's\",\n",
       "  'image_url': 'https://s3-media2.fl.yelpcdn.com/bphoto/clscwgOF9_Ecq-Rwsq7jyQ/o.jpg',\n",
       "  'is_closed': False,\n",
       "  'url': 'https://www.yelp.com/biz/julianas-brooklyn-3?adjust_creative=HLZOeisiwIddfzajhrppHg&utm_campaign=yelp_api_v3&utm_medium=api_v3_business_search&utm_source=HLZOeisiwIddfzajhrppHg',\n",
       "  'review_count': 2376,\n",
       "  'categories': [{'alias': 'pizza', 'title': 'Pizza'}],\n",
       "  'rating': 4.5,\n",
       "  'coordinates': {'latitude': 40.70274718768062,\n",
       "   'longitude': -73.99343490196397},\n",
       "  'transactions': ['delivery'],\n",
       "  'price': '$$',\n",
       "  'location': {'address1': '19 Old Fulton St',\n",
       "   'address2': '',\n",
       "   'address3': '',\n",
       "   'city': 'Brooklyn',\n",
       "   'zip_code': '11201',\n",
       "   'country': 'US',\n",
       "   'state': 'NY',\n",
       "   'display_address': ['19 Old Fulton St', 'Brooklyn, NY 11201']},\n",
       "  'phone': '+17185966700',\n",
       "  'display_phone': '(718) 596-6700',\n",
       "  'distance': 308.56984360837544}]"
      ]
     },
     "execution_count": 8,
     "metadata": {},
     "output_type": "execute_result"
    }
   ],
   "source": [
    "# Replace None with appropriate code\n",
    "\n",
    "# Retrieve the value from response_json\n",
    "businesses = response_json['businesses']\n",
    "\n",
    "# View the first 2 records\n",
    "businesses[:2]"
   ]
  },
  {
   "cell_type": "markdown",
   "metadata": {},
   "source": [
    "### Preparing Data\n",
    "\n",
    "Write a function `prepare_data` that takes in a list of dictionaries like `businesses` and returns a copy that has been prepared for analysis:\n",
    "\n",
    "1. The `coordinates` key-value pair has been converted into two separate key-value pairs, `latitude` and `longitude`\n",
    "2. All other key-value pairs except for `name`, `review_count`, `rating`, and `price` have been dropped\n",
    "3. All dictionaries missing one of the relevant keys or containing null values have been dropped\n",
    "\n",
    "In other words, the final keys for each dictionary should be `name`, `review_count`, `rating`, `price`, `latitude`, and `longitude`.\n",
    "\n",
    "Complete the function in the cell below:"
   ]
  },
  {
   "cell_type": "code",
   "execution_count": 10,
   "metadata": {},
   "outputs": [
    {
     "data": {
      "text/plain": [
       "[{'name': 'Prince Street Pizza',\n",
       "  'review_count': 4102,\n",
       "  'rating': 4.5,\n",
       "  'price': '$',\n",
       "  'latitude': 40.72308755605564,\n",
       "  'longitude': -73.99453001177575},\n",
       " {'name': \"Juliana's\",\n",
       "  'review_count': 2376,\n",
       "  'rating': 4.5,\n",
       "  'price': '$$',\n",
       "  'latitude': 40.70274718768062,\n",
       "  'longitude': -73.99343490196397},\n",
       " {'name': \"Lombardi's Pizza\",\n",
       "  'review_count': 6231,\n",
       "  'rating': 4.0,\n",
       "  'price': '$$',\n",
       "  'latitude': 40.7215934960083,\n",
       "  'longitude': -73.9955956044561},\n",
       " {'name': 'Rubirosa',\n",
       "  'review_count': 2523,\n",
       "  'rating': 4.5,\n",
       "  'price': '$$',\n",
       "  'latitude': 40.722766,\n",
       "  'longitude': -73.996233},\n",
       " {'name': 'Lucali',\n",
       "  'review_count': 1742,\n",
       "  'rating': 4.0,\n",
       "  'price': '$$',\n",
       "  'latitude': 40.6818,\n",
       "  'longitude': -74.00024}]"
      ]
     },
     "execution_count": 10,
     "metadata": {},
     "output_type": "execute_result"
    }
   ],
   "source": [
    "# Replace None with appropriate code\n",
    "\n",
    "def prepare_data(data_list):\n",
    "    \"\"\"\n",
    "    This function takes in a list of dictionaries and prepares it\n",
    "    for analysis\n",
    "    \"\"\"\n",
    "    \n",
    "    # Make a new list to hold results\n",
    "    results = []\n",
    "    \n",
    "    for business_data in data_list:\n",
    "    \n",
    "        # Make a new dictionary to hold prepared data for this business\n",
    "        prepared_data = {}\n",
    "        \n",
    "        # Extract name, review_count, rating, and price key-value pairs\n",
    "        # from business_data and add to prepared_data\n",
    "        # If a key is not present in business_data, add it to prepared_data\n",
    "        # with an associated value of None\n",
    "        for key in (\"name\", \"review_count\", \"rating\", \"price\"):\n",
    "            prepared_data[key] = business_data.get(key, None) \n",
    "    \n",
    "        # Parse and add latitude and longitude columns\n",
    "        coordinates = business_data[\"coordinates\"]\n",
    "        prepared_data['latitude'] = coordinates[\"latitude\"]\n",
    "        prepared_data[\"longitude\"] = coordinates [\"longitude\"]\n",
    "        \n",
    "        # Add to list if all values are present\n",
    "        if all(prepared_data.values()):\n",
    "            results.append(prepared_data)\n",
    "    \n",
    "    return results\n",
    "    \n",
    "# Test out function\n",
    "prepared_businesses = prepare_data(businesses)\n",
    "prepared_businesses[:5]"
   ]
  },
  {
   "cell_type": "markdown",
   "metadata": {},
   "source": [
    "Check that your function created the correct keys:"
   ]
  },
  {
   "cell_type": "code",
   "execution_count": 11,
   "metadata": {},
   "outputs": [],
   "source": [
    "# Run this cell without changes\n",
    "\n",
    "assert sorted(list(prepared_businesses[0].keys())) == ['latitude', 'longitude', 'name', 'price', 'rating', 'review_count']"
   ]
  },
  {
   "cell_type": "markdown",
   "metadata": {},
   "source": [
    "The following code will differ depending on your query, but we expect there to be 20 businesses in the original list, and potentially fewer in the prepared list (if any of them were missing data):"
   ]
  },
  {
   "cell_type": "code",
   "execution_count": 12,
   "metadata": {},
   "outputs": [
    {
     "name": "stdout",
     "output_type": "stream",
     "text": [
      "Original: 20\n",
      "Prepared: 20\n"
     ]
    }
   ],
   "source": [
    "# Run this cell without changes\n",
    "print(\"Original:\", len(businesses))\n",
    "print(\"Prepared:\", len(prepared_businesses))"
   ]
  },
  {
   "cell_type": "markdown",
   "metadata": {},
   "source": [
    "Great! We will reuse this function once we have retrieved the full dataset."
   ]
  },
  {
   "cell_type": "markdown",
   "metadata": {},
   "source": [
    "## 2. Add Pagination\n",
    "\n",
    "Now that you are able to extract information from one page of the response, let's figure out how to request as many pages as possible.\n",
    "\n",
    "### Determining the Total\n",
    "\n",
    "Depending on the number of total results for your query, you will either retrieve all of the results, or just the first 1000 (if there are more than 1000 total).\n",
    "\n",
    "We can find the total number of results using the `\"total\"` key:"
   ]
  },
  {
   "cell_type": "code",
   "execution_count": 13,
   "metadata": {},
   "outputs": [
    {
     "data": {
      "text/plain": [
       "240"
      ]
     },
     "execution_count": 13,
     "metadata": {},
     "output_type": "execute_result"
    }
   ],
   "source": [
    "# Run this cell without changes\n",
    "response_json[\"total\"]"
   ]
  },
  {
   "cell_type": "markdown",
   "metadata": {},
   "source": [
    "(This is specific to the implementation of the Yelp API. Some APIs will just tell you that there are more pages, or will tell you the number of pages total, rather than the total number of results. If you're not sure, always check the documentation.)\n",
    "\n",
    "In the cell below, assign the variable `total` to either the value shown above (if it is less than 1000), or 1000."
   ]
  },
  {
   "cell_type": "code",
   "execution_count": 14,
   "metadata": {},
   "outputs": [],
   "source": [
    "# Replace None with appropriate code\n",
    "total = 240"
   ]
  },
  {
   "cell_type": "markdown",
   "metadata": {},
   "source": [
    "### Calculating the Offsets\n",
    "\n",
    "The documentation states in the parameters section:\n",
    "\n",
    "> **Name**: `limit`, **Type:** int, **Description:** Optional. Number of business results to return. By default, it will return 20. Maximum is 50.\n",
    "\n",
    "> **Name**: `offset`, **Type:** int, **Description:** Optional. Offset the list of returned business results by this amount.\n",
    "\n",
    "So, to get the most results with the fewest API calls we want to set a limit of 50 every time. If, say, we wanted to get 210 total results, that would mean:\n",
    "\n",
    "1. Offset of `0` (first 50 records)\n",
    "2. Offset of `50` (second 50 records)\n",
    "3. Offset of `100` (third 50 records)\n",
    "4. Offset of `150` (fourth 50 records)\n",
    "5. Offset of `200` (final 10 records)\n",
    "\n",
    "In the cell below, create a function `get_offsets` that takes in a total and returns a list of offsets for that total. You can assume that there is a limit of 50 every time.\n",
    "\n",
    "*Hint: you can use `range` ([documentation here](https://docs.python.org/3.3/library/stdtypes.html?highlight=range#range)) to do this in one line of code. Just make the returned result is a list.*"
   ]
  },
  {
   "cell_type": "code",
   "execution_count": 15,
   "metadata": {},
   "outputs": [],
   "source": [
    "# Replace None with appropriate code\n",
    "def get_offsets(total):\n",
    "    \"\"\"\n",
    "    Get a list of offsets needed to get all pages\n",
    "    of data up until the total\n",
    "    \"\"\"\n",
    "    return list(range(0, total, 50))"
   ]
  },
  {
   "cell_type": "markdown",
   "metadata": {},
   "source": [
    "Check that your function works below:"
   ]
  },
  {
   "cell_type": "code",
   "execution_count": 16,
   "metadata": {},
   "outputs": [],
   "source": [
    "# Run this cell without changes\n",
    "\n",
    "assert get_offsets(200) == [0, 50, 100, 150]\n",
    "assert get_offsets(210) == [0, 50, 100, 150, 200]"
   ]
  },
  {
   "cell_type": "markdown",
   "metadata": {},
   "source": [
    "### Putting It All Together\n",
    "\n",
    "Recall that the following variable has already been declared for you:"
   ]
  },
  {
   "cell_type": "code",
   "execution_count": 17,
   "metadata": {},
   "outputs": [
    {
     "data": {
      "text/plain": [
       "{'term': 'pizza', 'location': 'New+York+NY'}"
      ]
     },
     "execution_count": 17,
     "metadata": {},
     "output_type": "execute_result"
    }
   ],
   "source": [
    "# Run this cell without changes\n",
    "url_params"
   ]
  },
  {
   "cell_type": "markdown",
   "metadata": {},
   "source": [
    "We'll go ahead and also specify that the limit should be 50 every time:"
   ]
  },
  {
   "cell_type": "code",
   "execution_count": 18,
   "metadata": {},
   "outputs": [],
   "source": [
    "# Run this cell without changes\n",
    "url_params[\"limit\"] = 50"
   ]
  },
  {
   "cell_type": "markdown",
   "metadata": {},
   "source": [
    "In order to modify the offset, you'll need to add it to `url_params` with the key `\"offset\"` and whatever value is needed.\n",
    "\n",
    "In the cell below, write code that:\n",
    "\n",
    "* Creates an empty list for the full prepared dataset\n",
    "* Loops over all of the offsets from `get_offsets` and makes an API call each time with the specified offset\n",
    "* Calls `prepare_data` to get a cleaned version of the result of each API call\n",
    "* Extends the full prepared dataset list with each query's prepared dataset"
   ]
  },
  {
   "cell_type": "code",
   "execution_count": 20,
   "metadata": {},
   "outputs": [
    {
     "data": {
      "text/plain": [
       "203"
      ]
     },
     "execution_count": 20,
     "metadata": {},
     "output_type": "execute_result"
    }
   ],
   "source": [
    "# Replace None with appropriate code\n",
    "\n",
    "# Create an empty list for the full prepared dataset\n",
    "full_dataset = []\n",
    "\n",
    "for offset in get_offsets(total):\n",
    "    # Add or update the \"offset\" key-value pair in url_params\n",
    "    url_params[\"offset\"] = offset\n",
    "    \n",
    "    # Make the query and get the response\n",
    "    response = requests.get(url, headers=headers, params=url_params)\n",
    "    \n",
    "    # Get the response body in JSON format\n",
    "    response_json = response.json()\n",
    "    \n",
    "    # Get the list of businesses from the response_json\n",
    "    businesses = response_json[\"businesses\"]\n",
    "    \n",
    "    # Call the prepare_data function to get a list of processed data\n",
    "    prepared_businesses = prepare_data(businesses)\n",
    "    \n",
    "    # Extend full_dataset with this list (don't append, or you'll get\n",
    "    # a list of lists instead of a flat list)\n",
    "    full_dataset.extend(prepared_businesses)\n",
    "\n",
    "# Check the length of the full dataset. It will be up to `total`,\n",
    "# potentially less if there were missing values\n",
    "len(full_dataset)"
   ]
  },
  {
   "cell_type": "markdown",
   "metadata": {},
   "source": [
    "This code may take up to a few minutes to run.\n",
    "\n",
    "If you get an error trying to get the response body in JSON format, try adding `time.sleep(1)` right after the `requests.get` line, so your code will sleep for 1 second between each API call."
   ]
  },
  {
   "cell_type": "markdown",
   "metadata": {},
   "source": [
    "## 3. Perform Exploratory Analysis\n",
    "\n",
    "Take the businesses from the previous question and do an initial exploratory analysis. We have provided some plots for you to interpret:"
   ]
  },
  {
   "cell_type": "code",
   "execution_count": 21,
   "metadata": {},
   "outputs": [
    {
     "data": {
      "image/png": "[encoded data removed]",
      "text/plain": [
       "<Figure size 1152x360 with 3 Axes>"
      ]
     },
     "metadata": {
      "needs_background": "light"
     },
     "output_type": "display_data"
    }
   ],
   "source": [
    "# Run this cell without changes\n",
    "from collections import Counter\n",
    "import matplotlib.pyplot as plt\n",
    "%matplotlib inline\n",
    "\n",
    "fig, (ax1, ax2, ax3) = plt.subplots(ncols=3, figsize=(16, 5))\n",
    "\n",
    "# Plot distribution of number of reviews\n",
    "all_review_counts = [x[\"review_count\"] for x in full_dataset]\n",
    "ax1.hist(all_review_counts)\n",
    "ax1.set_title(\"Review Count Distribution\")\n",
    "ax1.set_xlabel(\"Number of Reviews\")\n",
    "ax1.set_ylabel(\"Number of Businesses\")\n",
    "\n",
    "# Plot rating distribution\n",
    "all_ratings = [x[\"rating\"] for x in full_dataset]\n",
    "rating_counter = Counter(all_ratings)\n",
    "rating_keys = sorted(rating_counter.keys())\n",
    "ax2.bar(rating_keys, [rating_counter[key] for key in rating_keys])\n",
    "ax2.set_title(\"Rating Distribution\")\n",
    "ax2.set_xlabel(\"Rating\")\n",
    "ax2.set_ylabel(\"Number of Businesses\")\n",
    "\n",
    "# Plot price distribution\n",
    "all_prices = [x[\"price\"].replace(\"$\", r\"\\$\") for x in full_dataset]\n",
    "price_counter = Counter(all_prices)\n",
    "price_keys = sorted(price_counter.keys())\n",
    "ax3.bar(price_keys, [price_counter[key] for key in price_keys])\n",
    "ax3.set_title(\"Price Distribution\")\n",
    "ax3.set_xlabel(\"Price Category\")\n",
    "ax3.set_ylabel(\"Number of Businesses\");"
   ]
  },
  {
   "cell_type": "markdown",
   "metadata": {},
   "source": [
    "Describe the distributions displayed above and interpret them in the context of your query. (Your answer may differ from the solution branch depending on your query.)"
   ]
  },
  {
   "cell_type": "code",
   "execution_count": null,
   "metadata": {},
   "outputs": [],
   "source": [
    "# Replace None with appropriate text\n",
    "\"\"\"\n",
    "The review count distribution plot shows that most of the businesses have \n",
    "fewer than a 500 reviews but other businesses have significantly more \n",
    "reviews, up too 6000. This large range in amount of reviews can mean the data\n",
    "is not an accurate representation of each businesses, since some have more\n",
    "data points.\n",
    "\n",
    "The rating distribution & price distribution plots do not consider the \n",
    "amount of reviews the business has. Overall the rating distribution plot \n",
    "shows that most businesses have a rating close to 4.0 and many of the \n",
    "remaining ratings fall close to that (3.5-4.5). Similar, the price\n",
    "distribution plot has most of the businesses falling into the same\n",
    "category of $ or $$ with not that many straying far from the median.\n",
    "\"\"\""
   ]
  },
  {
   "cell_type": "markdown",
   "metadata": {},
   "source": [
    "In the cell below, we also plot the rating distributions by price. In this setup, a price of one dollar sign is \"lower price\" and everything else is \"higher price\"."
   ]
  },
  {
   "cell_type": "code",
   "execution_count": 22,
   "metadata": {},
   "outputs": [
    {
     "data": {
      "image/png": "[encoded data removed]",
      "text/plain": [
       "<Figure size 432x288 with 1 Axes>"
      ]
     },
     "metadata": {
      "needs_background": "light"
     },
     "output_type": "display_data"
    }
   ],
   "source": [
    "# Run this cell without changes\n",
    "\n",
    "higher_price = []\n",
    "lower_price = []\n",
    "for row in full_dataset:\n",
    "    if row[\"price\"] == \"$\":\n",
    "        lower_price.append(row[\"rating\"])\n",
    "    else:\n",
    "        higher_price.append(row[\"rating\"])\n",
    "        \n",
    "fig, ax = plt.subplots()\n",
    "\n",
    "ax.hist([higher_price, lower_price], label=[\"higher price\", \"lower price\"], density=True)\n",
    "\n",
    "ax.legend();"
   ]
  },
  {
   "cell_type": "markdown",
   "metadata": {},
   "source": [
    "Is a higher price associated with a higher rating? (No need for any additional math/statistics, just interpret what you see in the plot.)"
   ]
  },
  {
   "cell_type": "code",
   "execution_count": null,
   "metadata": {},
   "outputs": [],
   "source": [
    "# Replace None with appropriate text\n",
    "\"\"\"\n",
    "I dont think this is a good plot since the axis arent that obvious/easy \n",
    "assume what they represent.\n",
    "\n",
    "Overall, it the plot does not really point to an obvious distribution of\n",
    "price to rating, since lower price beats higher price at 4.5 rating\n",
    "but then higher price beats lower price at 4.0 ratings. There is hardly \n",
    "a difference in hight of the bars which shows the relationship is not that\n",
    "obvious. \n",
    "\"\"\""
   ]
  },
  {
   "cell_type": "markdown",
   "metadata": {},
   "source": [
    "Finally, let's look at ratings vs. review counts:"
   ]
  },
  {
   "cell_type": "code",
   "execution_count": 23,
   "metadata": {},
   "outputs": [
    {
     "data": {
      "image/png": "[encoded data removed]",
      "text/plain": [
       "<Figure size 1152x360 with 1 Axes>"
      ]
     },
     "metadata": {
      "needs_background": "light"
     },
     "output_type": "display_data"
    }
   ],
   "source": [
    "# Run this cell without changes\n",
    "fig, ax = plt.subplots(figsize=(16,5))\n",
    "\n",
    "ax.scatter(all_review_counts, all_ratings, alpha=0.2)\n",
    "ax.set_xlabel(\"Number of Reviews\")\n",
    "ax.set_ylabel(\"Rating\")\n",
    "# \"zoom in\" to a subset of review counts\n",
    "ax.set_xlim(left=0, right=1000);"
   ]
  },
  {
   "cell_type": "markdown",
   "metadata": {},
   "source": [
    "Is a higher number of reviews associated with a higher rating?"
   ]
  },
  {
   "cell_type": "code",
   "execution_count": null,
   "metadata": {},
   "outputs": [],
   "source": [
    "# Replace None with appropriate text\n",
    "\"\"\"\n",
    "It depends what a high rating is considered, if a high rating is \n",
    "considered to be 5.0 then no. If anything this plot shows that people \n",
    "give ratings at 4.0 to 4.5.\n",
    "Which would make sense because in my opinion many people are not okay with \n",
    "leaving bad reviews but also many dont leave 5 start reviews becuase they save\n",
    "the 5 star reviews for their favorite restaurant, which could be a steak\n",
    "house and this plot is looking at just pizza spots.\n",
    "\"\"\""
   ]
  },
  {
   "cell_type": "markdown",
   "metadata": {},
   "source": [
    "## 4. Create a Folium Map\n",
    "\n",
    "Make a map using Folium of the businesses you retrieved. Be sure to also add popups to the markers giving some basic information such as name, rating and price.\n",
    "\n",
    "You can center the map around the latitude and longitude of the first item in `full_dataset`."
   ]
  },
  {
   "cell_type": "code",
   "execution_count": 25,
   "metadata": {},
   "outputs": [
    {
     "data": {
      "text/html": [
       "<div style=\"width:100%;\"><div style=\"position:relative;width:100%;height:0;padding-bottom:60%;\"><span style=\"color:#565656\">Make this Notebook Trusted to load map: File -> Trust Notebook</span><iframe src=\"about:blank\" style=\"position:absolute;width:100%;height:100%;left:0;top:0;border:none !important;\" data-html=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 onload=\"this.contentDocument.open();this.contentDocument.write(atob(this.getAttribute('data-html')));this.contentDocument.close();\" allowfullscreen webkitallowfullscreen mozallowfullscreen></iframe></div></div>"
      ],
      "text/plain": [
       "<folium.folium.Map at 0x7fc15188cf10>"
      ]
     },
     "execution_count": 25,
     "metadata": {},
     "output_type": "execute_result"
    }
   ],
   "source": [
    "# Replace None with appropriate code\n",
    "\n",
    "# Import the library\n",
    "import folium\n",
    "\n",
    "# Set up center latitude and longitude\n",
    "center_lat = full_dataset[0][\"latitude\"]\n",
    "center_long = full_dataset[0][\"longitude\"]\n",
    "\n",
    "# Initialize map with center lat and long\n",
    "yelp_map = folium.Map([center_lat, center_long], zoom_start=12)\n",
    "\n",
    "# Adjust this limit to see more or fewer businesses\n",
    "limit=100\n",
    "\n",
    "for business in full_dataset[:limit]:\n",
    "    # Extract information about business\n",
    "    lat = business[\"latitude\"]\n",
    "    long = business[\"longitude\"]\n",
    "    name = business[\"name\"]\n",
    "    rating = business[\"rating\"]\n",
    "    price = business[\"price\"]\n",
    "    details = \"{}\\nPrice: {} Rating:{}\".format(name,price,rating)\n",
    "    \n",
    "    # Create popup with relevant details\n",
    "    popup = folium.Popup(details)\n",
    "    \n",
    "    # Create marker with relevant lat/long and popup\n",
    "    marker = folium.Marker([lat, long], popup=popup)\n",
    "    \n",
    "    marker.add_to(yelp_map)\n",
    "    \n",
    "yelp_map"
   ]
  },
  {
   "cell_type": "markdown",
   "metadata": {},
   "source": [
    "## Summary\n",
    "\n",
    "Nice work! In this lab, you've made multiple API calls to Yelp in order to paginate through a results set, performing some basic exploratory analysis and then creating a nice interactive map to display the results using Folium! Well done!"
   ]
  }
 ],
 "metadata": {
  "kernelspec": {
   "display_name": "Python 3",
   "language": "python",
   "name": "python3"
  },
  "language_info": {
   "codemirror_mode": {
    "name": "ipython",
    "version": 3
   },
   "file_extension": ".py",
   "mimetype": "text/x-python",
   "name": "python",
   "nbconvert_exporter": "python",
   "pygments_lexer": "ipython3",
   "version": "3.8.5"
  },
  "toc": {
   "base_numbering": 1,
   "nav_menu": {},
   "number_sections": true,
   "sideBar": true,
   "skip_h1_title": false,
   "title_cell": "Table of Contents",
   "title_sidebar": "Contents",
   "toc_cell": false,
   "toc_position": {},
   "toc_section_display": true,
   "toc_window_display": false
  }
 },
 "nbformat": 4,
 "nbformat_minor": 2
}
